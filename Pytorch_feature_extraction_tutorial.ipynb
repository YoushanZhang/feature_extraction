{
 "cells": [
  {
   "cell_type": "markdown",
   "id": "8e54cd79",
   "metadata": {},
   "source": [
    "# This tutorial shows the transfer learning of pre-trained ImageNet models using dog and cat images"
   ]
  },
  {
   "cell_type": "markdown",
   "id": "0c473c58",
   "metadata": {},
   "source": [
    "### 1. We first extract pre-trained features from the ResNet50 model\n",
    "### 2. We then visualize these features using the t-SNE view\n",
    "### 3. We train a traditional SVM classifier to classify these features"
   ]
  },
  {
   "cell_type": "code",
   "execution_count": 1,
   "id": "f6ceca38",
   "metadata": {},
   "outputs": [],
   "source": [
    "# First load related packages\n",
    "import torch\n",
    "import torch.nn as nn\n",
    "from torchvision import models\n",
    "from torch.utils.data import DataLoader\n",
    "from torchvision import transforms\n",
    "from torchvision.datasets import ImageFolder\n",
    "from sklearn.manifold import TSNE\n",
    "from matplotlib import cm\n",
    "import matplotlib.pyplot as plt\n",
    "import numpy as np\n",
    "from sklearn import svm\n",
    "from sklearn.neighbors import KNeighborsClassifier\n",
    "from sklearn.model_selection import KFold\n",
    "from sklearn.model_selection import cross_val_predict\n",
    "from sklearn.model_selection import cross_val_score\n",
    "from sklearn.metrics import confusion_matrix"
   ]
  },
  {
   "cell_type": "markdown",
   "id": "cf9a8679",
   "metadata": {},
   "source": [
    "**Load model and prepare the dataset to read images**"
   ]
  },
  {
   "cell_type": "code",
   "execution_count": 2,
   "id": "1336f0d4",
   "metadata": {},
   "outputs": [],
   "source": [
    "# Load pre-trained ResNet50 model\n",
    "model = models.resnet50(pretrained=True)\n",
    "# Extract features from the last fc layer, the output features size should be equal to 2048\n",
    "model_extract = nn.Sequential(*list(model.children())[:-1])\n",
    "\n",
    "# transfer images to tensor and normalize the image \n",
    "transfrom = transforms.Compose([\n",
    "        transforms.ToTensor(),\n",
    "        transforms.Resize((224, 224)),\n",
    "        transforms.Normalize([0.485, 0.456, 0.406], [0.229, 0.224, 0.225])\n",
    "    ])\n",
    "\n",
    "# Add image folder path\n",
    "image_path = './Dog_cat'\n",
    "dataset=ImageFolder(image_path,transform=transfrom)\n",
    "\n",
    "# Read all images to dataLoader, batch size can be bigger\n",
    "train_loader=DataLoader(dataset, batch_size=1,shuffle=False)\n"
   ]
  },
  {
   "cell_type": "markdown",
   "id": "df6756fe",
   "metadata": {},
   "source": [
    "**Step 1: Extract features from a pre-trained ResNet50 model**"
   ]
  },
  {
   "cell_type": "code",
   "execution_count": 3,
   "id": "1e9c7762",
   "metadata": {},
   "outputs": [
    {
     "name": "stdout",
     "output_type": "stream",
     "text": [
      "torch.Size([60, 2048])\n",
      "torch.Size([60])\n"
     ]
    }
   ],
   "source": [
    "# Feature extraction \n",
    "num =0\n",
    "features = []\n",
    "labels   = []\n",
    "\n",
    "with torch.no_grad():\n",
    "    for x, y in iter(train_loader):\n",
    "        feature = model_extract(x)\n",
    "        features.append(feature)\n",
    "        labels.append(y)\n",
    "        # check x, y and num    \n",
    "#         print(x.shape)\n",
    "#         print(y) \n",
    "#         print(num)\n",
    "#         num = num + 1\n",
    "#     print(num)\n",
    "\n",
    "features = torch.squeeze(torch.cat(features))\n",
    "labels   = torch.cat(labels)\n",
    "\n",
    "print(features.shape)\n",
    "print(labels.shape)"
   ]
  },
  {
   "cell_type": "markdown",
   "id": "b496c3dc",
   "metadata": {},
   "source": [
    "**Step 2: visualize extracted features using the t-SNE view**"
   ]
  },
  {
   "cell_type": "code",
   "execution_count": 4,
   "id": "f3e29728",
   "metadata": {},
   "outputs": [
    {
     "name": "stderr",
     "output_type": "stream",
     "text": [
      "c:\\users\\yz945\\appdata\\local\\programs\\python\\python37\\lib\\site-packages\\sklearn\\manifold\\_t_sne.py:783: FutureWarning: The default initialization in TSNE will change from 'random' to 'pca' in 1.2.\n",
      "  FutureWarning,\n",
      "c:\\users\\yz945\\appdata\\local\\programs\\python\\python37\\lib\\site-packages\\sklearn\\manifold\\_t_sne.py:793: FutureWarning: The default learning rate in TSNE will change from 200.0 to 'auto' in 1.2.\n",
      "  FutureWarning,\n"
     ]
    },
    {
     "name": "stdout",
     "output_type": "stream",
     "text": [
      "[t-SNE] Computing 59 nearest neighbors...\n",
      "[t-SNE] Indexed 60 samples in 0.000s...\n",
      "[t-SNE] Computed neighbors for 60 samples in 0.001s...\n",
      "[t-SNE] Computed conditional probabilities for sample 60 / 60\n",
      "[t-SNE] Mean sigma: 0.446239\n",
      "[t-SNE] KL divergence after 250 iterations with early exaggeration: 53.123455\n",
      "[t-SNE] KL divergence after 1000 iterations: 0.520891\n"
     ]
    },
    {
     "data": {
      "image/png": "[encoded data removed]",
      "text/plain": [
       "<Figure size 576x576 with 1 Axes>"
      ]
     },
     "metadata": {
      "needs_background": "light"
     },
     "output_type": "display_data"
    }
   ],
   "source": [
    "# Create a two dimensional t-SNE projection of the embeddings\n",
    "tsne = TSNE(2, verbose=1)\n",
    "tsne_proj = tsne.fit_transform(features)\n",
    "# Check the number of categories\n",
    "num_categories = torch.unique(labels).shape[0] #0: cat; 1: dog\n",
    "\n",
    "# Plot those points as a scatter plot and label them based on the true labels\n",
    "cmap = cm.get_cmap('Set1')\n",
    "fig, ax = plt.subplots(figsize=(8,8))\n",
    "\n",
    "\n",
    "for lab in range(num_categories):\n",
    "    indices = labels==lab\n",
    "    ax.scatter(tsne_proj[indices,0],tsne_proj[indices,1], c=np.array(cmap(lab)).reshape(1,4), label = lab ,alpha=0.5)\n",
    "ax.legend(fontsize='large', markerscale=2)\n",
    "plt.show()"
   ]
  },
  {
   "cell_type": "markdown",
   "id": "b512041c",
   "metadata": {},
   "source": [
    "**Step 3: We train a traditional SVM classifier using to classify these features**"
   ]
  },
  {
   "cell_type": "code",
   "execution_count": 5,
   "id": "6af23ee4",
   "metadata": {},
   "outputs": [
    {
     "name": "stdout",
     "output_type": "stream",
     "text": [
      "cross_val_accuray=   86.66666666666669\n",
      "Confusion matrix is: \n",
      "[[27  5]\n",
      " [ 3 25]]\n",
      "All accuracies are: \n",
      "[[0.45       0.08333333]\n",
      " [0.05       0.41666667]]\n"
     ]
    }
   ],
   "source": [
    "# Since we only have 60 samples, we use five-fold cross-validation to calculate the accuracy of SVM\n",
    "k_folds = 5\n",
    "# Set svm classifer\n",
    "clf = svm.SVC(kernel='linear') # Linear Kernel\n",
    "# clf = KNeighborsClassifier(n_neighbors=3) 3-nn classifer \n",
    "cvs=cross_val_score(clf,features,labels,scoring='accuracy',cv=k_folds)\n",
    "print('cross_val_accuray=  ',cvs.mean()*100)\n",
    "y_pred=cross_val_predict(clf,features,labels,cv=k_folds)\n",
    "conf_mat=confusion_matrix(y_pred,labels)\n",
    "print('Confusion matrix is: ')\n",
    "print(conf_mat)\n",
    "print('All accuracies are: ')\n",
    "print(conf_mat/np.sum(conf_mat))"
   ]
  },
  {
   "cell_type": "code",
   "execution_count": 6,
   "id": "b24491ff",
   "metadata": {},
   "outputs": [
    {
     "name": "stdout",
     "output_type": "stream",
     "text": [
      "0.8666666666666667\n"
     ]
    }
   ],
   "source": [
    "# Or one simple split\n",
    "train_x = features[::2,:] # take tensor every 2 steps\n",
    "train_y = labels[::2]\n",
    "test_x = features[1::2,:]\n",
    "test_y = labels[1::2]   \n",
    "\n",
    "clf.fit(train_x, train_y)\n",
    "fin_val = clf.predict(test_x)\n",
    "print(np.sum(fin_val==np.array(test_y))/test_y.shape[0])"
   ]
  },
  {
   "cell_type": "code",
   "execution_count": null,
   "id": "dbbf3108",
   "metadata": {},
   "outputs": [],
   "source": []
  }
 ],
 "metadata": {
  "kernelspec": {
   "display_name": "Python 3 (ipykernel)",
   "language": "python",
   "name": "python3"
  },
  "language_info": {
   "codemirror_mode": {
    "name": "ipython",
    "version": 3
   },
   "file_extension": ".py",
   "mimetype": "text/x-python",
   "name": "python",
   "nbconvert_exporter": "python",
   "pygments_lexer": "ipython3",
   "version": "3.7.7"
  }
 },
 "nbformat": 4,
 "nbformat_minor": 5
}
